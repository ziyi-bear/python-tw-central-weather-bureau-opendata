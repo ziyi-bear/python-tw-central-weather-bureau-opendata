{
 "cells": [
  {
   "cell_type": "code",
   "execution_count": 5,
   "metadata": {},
   "outputs": [],
   "source": [
    "import requests\n",
    "import json"
   ]
  },
  {
   "cell_type": "code",
   "execution_count": 1,
   "metadata": {},
   "outputs": [],
   "source": [
    "cwb_authorization_code = 'CWB-78BA87BA-F8AB-4F6D-90FB-20C11F7DE75B'\n",
    "cwb_observation_localtion = \"苗栗\""
   ]
  },
  {
   "cell_type": "code",
   "execution_count": 8,
   "metadata": {},
   "outputs": [],
   "source": [
    "def weatherData(elementName, data):\n",
    "    weatherElement = data['weatherElement']\n",
    "    findelement = list(filter(lambda x:x[\"elementName\"]==elementName, weatherElement))\n",
    "    return findelement[0]['elementValue']['value']"
   ]
  },
  {
   "cell_type": "code",
   "execution_count": 9,
   "metadata": {},
   "outputs": [],
   "source": [
    "def getObservationWeather():\n",
    "    global cwb_authorization_code, cwb_observation_localtion\n",
    "    CWB_OBSERVATION_ID = 'O-A0001-001'\n",
    "    CWB_OBSERVATION_URL = 'https://opendata.cwb.gov.tw/fileapi/v1/opendataapi/{}?Authorization={}&downloadType=WEB&format=JSON'\n",
    "    cwb_observation_get_url = CWB_OBSERVATION_URL.format(CWB_OBSERVATION_ID, cwb_authorization_code)\n",
    "    response = requests.get(cwb_observation_get_url)\n",
    "    data = json.loads(response.content)\n",
    "    opendata = data['cwbopendata']['location']\n",
    "    targetData = list(filter(lambda x:x[\"locationName\"]==cwb_observation_localtion,opendata))\n",
    "    targetData = targetData[0]\n",
    "    # 取出天氣資料\n",
    "    temper = weatherData('TEMP', targetData)\n",
    "    hum = weatherData('HUMD', targetData)\n",
    "    pressure = weatherData('PRES', targetData)\n",
    "    rainfall_24h = weatherData('H_24R', targetData)\n",
    "    daily_max_temper = weatherData('D_TX', targetData)\n",
    "    daily_max_temper_time = weatherData('D_TXT', targetData)\n",
    "    outputString = '溫度:{} 相對溼度:{} 氣壓:{} 今日會在{}時達到最高溫{}度 今日累積雨量{}'.format(temper, hum, pressure, daily_max_temper_time, daily_max_temper, rainfall_24h)\n",
    "    return outputString"
   ]
  },
  {
   "cell_type": "code",
   "execution_count": 10,
   "metadata": {},
   "outputs": [
    {
     "data": {
      "text/plain": [
       "'溫度:30.6 相對溼度:0.59 氣壓:999.1 今日會在2020-10-11T13:00:00+08:00時達到最高溫30.60度 今日累積雨量0.0'"
      ]
     },
     "execution_count": 10,
     "metadata": {},
     "output_type": "execute_result"
    }
   ],
   "source": [
    "getObservationWeather()"
   ]
  },
  {
   "cell_type": "code",
   "execution_count": null,
   "metadata": {},
   "outputs": [],
   "source": []
  }
 ],
 "metadata": {
  "kernelspec": {
   "display_name": "Python 3",
   "language": "python",
   "name": "python3"
  },
  "language_info": {
   "codemirror_mode": {
    "name": "ipython",
    "version": 3
   },
   "file_extension": ".py",
   "mimetype": "text/x-python",
   "name": "python",
   "nbconvert_exporter": "python",
   "pygments_lexer": "ipython3",
   "version": "3.6.10"
  }
 },
 "nbformat": 4,
 "nbformat_minor": 4
}
