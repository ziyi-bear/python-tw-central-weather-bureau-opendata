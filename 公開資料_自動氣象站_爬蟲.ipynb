{
 "cells": [
  {
   "cell_type": "code",
   "execution_count": 1,
   "metadata": {},
   "outputs": [],
   "source": [
    "import requests\n",
    "import json"
   ]
  },
  {
   "cell_type": "markdown",
   "metadata": {},
   "source": [
    "* [農業氣象旬報-各地氣象紀錄及圖表](https://opendata.cwb.gov.tw/dataset/climate/C-A0007-001)  \n",
    "* [自動氣象站-氣象觀測資料](https://opendata.cwb.gov.tw/dataset/observation/O-A0001-001)  "
   ]
  },
  {
   "cell_type": "code",
   "execution_count": 2,
   "metadata": {},
   "outputs": [],
   "source": [
    "# API授權碼\n",
    "CWB_Authorization_CODE = 'CWB-78BA87BA-F8AB-4F6D-90FB-20C11F7DE75B'\n",
    "# 農業氣象旬報-各地氣象紀錄及圖表\n",
    "CWB_CLIMATE_ID = 'C-A0007-001'\n",
    "CWB_CLIMATE_URL = 'https://opendata.cwb.gov.tw/fileapi/v1/opendataapi/{}?Authorization={}&downloadType=WEB&format=JSON'\n",
    "# 自動氣象站-氣象觀測資料\n",
    "CWB_OBSERVATION_ID = 'O-A0001-001'\n",
    "CWB_OBSERVATION_URL = 'https://opendata.cwb.gov.tw/fileapi/v1/opendataapi/{}?Authorization={}&downloadType=WEB&format=JSON'\n",
    "CWB_OBSERVATION_LOCATION_NAME = \"苗栗\""
   ]
  },
  {
   "cell_type": "code",
   "execution_count": 3,
   "metadata": {},
   "outputs": [],
   "source": [
    "cwb_observation_get_url = CWB_OBSERVATION_URL.format(CWB_OBSERVATION_ID, CWB_Authorization_CODE)\n",
    "response = requests.get(cwb_observation_get_url)"
   ]
  },
  {
   "cell_type": "code",
   "execution_count": 4,
   "metadata": {},
   "outputs": [
    {
     "name": "stdout",
     "output_type": "stream",
     "text": [
      "dict_keys(['cwbopendata'])\n"
     ]
    }
   ],
   "source": [
    "# json資料\n",
    "data = json.loads(response.content)\n",
    "# 要處理的資料區(顯示)\n",
    "print(data.keys())\n",
    "opendata = data['cwbopendata']['location']"
   ]
  },
  {
   "cell_type": "code",
   "execution_count": 10,
   "metadata": {},
   "outputs": [],
   "source": [
    "targetData = list(filter(lambda x:x[\"locationName\"]==CWB_OBSERVATION_LOCATION_NAME,opendata))\n",
    "targetData = targetData[0]"
   ]
  },
  {
   "cell_type": "code",
   "execution_count": 21,
   "metadata": {},
   "outputs": [
    {
     "data": {
      "text/plain": [
       "[{'elementName': 'ELEV', 'elementValue': {'value': '62.0'}},\n",
       " {'elementName': 'WDIR', 'elementValue': {'value': '25'}},\n",
       " {'elementName': 'WDSD', 'elementValue': {'value': '2.4'}},\n",
       " {'elementName': 'TEMP', 'elementValue': {'value': '27.9'}},\n",
       " {'elementName': 'HUMD', 'elementValue': {'value': '0.68'}},\n",
       " {'elementName': 'PRES', 'elementValue': {'value': '1001.6'}},\n",
       " {'elementName': 'H_24R', 'elementValue': {'value': '0.0'}},\n",
       " {'elementName': 'H_FX', 'elementValue': {'value': '-99'}},\n",
       " {'elementName': 'H_XD', 'elementValue': {'value': '-99'}},\n",
       " {'elementName': 'H_FXT', 'elementValue': {'value': '-99'}},\n",
       " {'elementName': 'D_TX', 'elementValue': {'value': '27.90'}},\n",
       " {'elementName': 'D_TXT',\n",
       "  'elementValue': {'value': '2020-10-11T10:00:00+08:00'}},\n",
       " {'elementName': 'D_TN', 'elementValue': {'value': '21.00'}},\n",
       " {'elementName': 'D_TNT',\n",
       "  'elementValue': {'value': '2020-10-11T05:50:00+08:00'}}]"
      ]
     },
     "execution_count": 21,
     "metadata": {},
     "output_type": "execute_result"
    }
   ],
   "source": [
    "# 取出該地點天氣的數據\n",
    "weatherElement = targetData['weatherElement']\n",
    "weatherElement"
   ]
  },
  {
   "cell_type": "code",
   "execution_count": 23,
   "metadata": {},
   "outputs": [
    {
     "data": {
      "text/plain": [
       "{'elementName': 'WDSD', 'elementValue': {'value': '2.4'}}"
      ]
     },
     "execution_count": 23,
     "metadata": {},
     "output_type": "execute_result"
    }
   ],
   "source": [
    "weatherElement[2]"
   ]
  },
  {
   "cell_type": "code",
   "execution_count": 25,
   "metadata": {},
   "outputs": [
    {
     "data": {
      "text/plain": [
       "[{'elementName': 'ELEV', 'elementValue': {'value': '62.0'}}]"
      ]
     },
     "execution_count": 25,
     "metadata": {},
     "output_type": "execute_result"
    }
   ],
   "source": [
    "list(filter(lambda x:x[\"elementName\"]=='ELEV',weatherElement))"
   ]
  },
  {
   "cell_type": "code",
   "execution_count": null,
   "metadata": {},
   "outputs": [],
   "source": []
  }
 ],
 "metadata": {
  "kernelspec": {
   "display_name": "Python 3",
   "language": "python",
   "name": "python3"
  },
  "language_info": {
   "codemirror_mode": {
    "name": "ipython",
    "version": 3
   },
   "file_extension": ".py",
   "mimetype": "text/x-python",
   "name": "python",
   "nbconvert_exporter": "python",
   "pygments_lexer": "ipython3",
   "version": "3.6.10"
  }
 },
 "nbformat": 4,
 "nbformat_minor": 4
}
