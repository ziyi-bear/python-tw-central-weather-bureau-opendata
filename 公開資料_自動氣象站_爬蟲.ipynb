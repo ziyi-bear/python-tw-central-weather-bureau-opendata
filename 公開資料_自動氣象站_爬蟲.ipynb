{
 "cells": [
  {
   "cell_type": "code",
   "execution_count": 1,
   "metadata": {},
   "outputs": [],
   "source": [
    "import requests\n",
    "import json"
   ]
  },
  {
   "cell_type": "markdown",
   "metadata": {},
   "source": [
    "* [農業氣象旬報-各地氣象紀錄及圖表](https://opendata.cwb.gov.tw/dataset/climate/C-A0007-001)  \n",
    "* [自動氣象站-氣象觀測資料](https://opendata.cwb.gov.tw/dataset/observation/O-A0001-001)  "
   ]
  },
  {
   "cell_type": "markdown",
   "metadata": {},
   "source": [
    "## 取出氣像資料內要的元素名稱數值"
   ]
  },
  {
   "cell_type": "code",
   "execution_count": 32,
   "metadata": {},
   "outputs": [],
   "source": [
    "def weatherData(elementName, data):\n",
    "    weatherElement = data['weatherElement']\n",
    "    findelement = list(filter(lambda x:x[\"elementName\"]==elementName, weatherElement))\n",
    "    return findelement[0]['elementValue']['value']"
   ]
  },
  {
   "cell_type": "code",
   "execution_count": 2,
   "metadata": {},
   "outputs": [],
   "source": [
    "# API授權碼\n",
    "CWB_Authorization_CODE = 'CWB-78BA87BA-F8AB-4F6D-90FB-20C11F7DE75B'\n",
    "# 農業氣象旬報-各地氣象紀錄及圖表\n",
    "CWB_CLIMATE_ID = 'C-A0007-001'\n",
    "CWB_CLIMATE_URL = 'https://opendata.cwb.gov.tw/fileapi/v1/opendataapi/{}?Authorization={}&downloadType=WEB&format=JSON'\n",
    "# 自動氣象站-氣象觀測資料\n",
    "CWB_OBSERVATION_ID = 'O-A0001-001'\n",
    "CWB_OBSERVATION_URL = 'https://opendata.cwb.gov.tw/fileapi/v1/opendataapi/{}?Authorization={}&downloadType=WEB&format=JSON'\n",
    "CWB_OBSERVATION_LOCATION_NAME = \"苗栗\""
   ]
  },
  {
   "cell_type": "code",
   "execution_count": 3,
   "metadata": {},
   "outputs": [],
   "source": [
    "cwb_observation_get_url = CWB_OBSERVATION_URL.format(CWB_OBSERVATION_ID, CWB_Authorization_CODE)\n",
    "response = requests.get(cwb_observation_get_url)"
   ]
  },
  {
   "cell_type": "code",
   "execution_count": 4,
   "metadata": {},
   "outputs": [
    {
     "name": "stdout",
     "output_type": "stream",
     "text": [
      "dict_keys(['cwbopendata'])\n"
     ]
    }
   ],
   "source": [
    "# json資料\n",
    "data = json.loads(response.content)\n",
    "# 要處理的資料區(顯示)\n",
    "print(data.keys())\n",
    "opendata = data['cwbopendata']['location']"
   ]
  },
  {
   "cell_type": "code",
   "execution_count": 26,
   "metadata": {},
   "outputs": [
    {
     "data": {
      "text/plain": [
       "{'lat': '24.566667',\n",
       " 'lon': '120.816444',\n",
       " 'lat_wgs84': '24.5645694444444',\n",
       " 'lon_wgs84': '120.824575',\n",
       " 'locationName': '苗栗',\n",
       " 'stationId': 'C0E750',\n",
       " 'time': {'obsTime': '2020-10-11T10:00:00+08:00'},\n",
       " 'weatherElement': [{'elementName': 'ELEV', 'elementValue': {'value': '62.0'}},\n",
       "  {'elementName': 'WDIR', 'elementValue': {'value': '25'}},\n",
       "  {'elementName': 'WDSD', 'elementValue': {'value': '2.4'}},\n",
       "  {'elementName': 'TEMP', 'elementValue': {'value': '27.9'}},\n",
       "  {'elementName': 'HUMD', 'elementValue': {'value': '0.68'}},\n",
       "  {'elementName': 'PRES', 'elementValue': {'value': '1001.6'}},\n",
       "  {'elementName': 'H_24R', 'elementValue': {'value': '0.0'}},\n",
       "  {'elementName': 'H_FX', 'elementValue': {'value': '-99'}},\n",
       "  {'elementName': 'H_XD', 'elementValue': {'value': '-99'}},\n",
       "  {'elementName': 'H_FXT', 'elementValue': {'value': '-99'}},\n",
       "  {'elementName': 'D_TX', 'elementValue': {'value': '27.90'}},\n",
       "  {'elementName': 'D_TXT',\n",
       "   'elementValue': {'value': '2020-10-11T10:00:00+08:00'}},\n",
       "  {'elementName': 'D_TN', 'elementValue': {'value': '21.00'}},\n",
       "  {'elementName': 'D_TNT',\n",
       "   'elementValue': {'value': '2020-10-11T05:50:00+08:00'}}],\n",
       " 'parameter': [{'parameterName': 'CITY', 'parameterValue': '苗栗縣'},\n",
       "  {'parameterName': 'CITY_SN', 'parameterValue': '11'},\n",
       "  {'parameterName': 'TOWN', 'parameterValue': '苗栗市'},\n",
       "  {'parameterName': 'TOWN_SN', 'parameterValue': '096'}]}"
      ]
     },
     "execution_count": 26,
     "metadata": {},
     "output_type": "execute_result"
    }
   ],
   "source": [
    "targetData = list(filter(lambda x:x[\"locationName\"]==CWB_OBSERVATION_LOCATION_NAME,opendata))\n",
    "targetData = targetData[0]\n",
    "targetData"
   ]
  },
  {
   "cell_type": "markdown",
   "metadata": {},
   "source": [
    "* `ELEV`:高度，單位 公尺\n",
    "* `WDIR`:風向，單位 度，一般風向 0 表示無風\n",
    "* `WDSD`:風速，單位 公尺/秒\n",
    "* `TEMP`:溫度，單位 攝氏\n",
    "* `HUMD`:相對濕度，單位 百分比率，此處以實數 0-1.0 記錄\n",
    "* `PRES`:測站氣壓，單位 百帕\n",
    "* `H_24R`:日累積雨量，單位 毫米\n",
    "* `H_FX`:小時最大陣風風速，單位 公尺/秒\n",
    "* `H_XD`:小時最大陣風風向，單位 度\n",
    "* `H_FXT`:小時最大陣風時間，yyyy-MM-ddThh:mm:ss+08:00\n",
    "* `D_TX`:本日最高溫，單位 攝氏\n",
    "* `D_TXT`:本日最高溫發生時間，hhmm (小時分鐘)\n",
    "* `D_TN`:本日最低溫，單位 攝氏\n",
    "* `D_TNT`:本日最低溫發生時間，hhmm (小時分鐘)"
   ]
  },
  {
   "cell_type": "code",
   "execution_count": 41,
   "metadata": {},
   "outputs": [],
   "source": [
    "wind_direction = weatherData('WDIR', targetData)\n",
    "wind_speed = weatherData('WDSD', targetData)\n",
    "temper = weatherData('TEMP', targetData)\n",
    "hum = weatherData('HUMD', targetData)\n",
    "pressure = weatherData('PRES', targetData)\n",
    "rainfall_24h = weatherData('H_24R', targetData)\n",
    "hour_max_wind_speed = weatherData('H_FX', targetData)\n",
    "hour_max_wind_direction = weatherData('H_XD', targetData)\n",
    "hour_max_wind_time = weatherData('H_FXT', targetData)\n",
    "daily_max_temper = weatherData('D_TX', targetData)\n",
    "daily_max_temper_time = weatherData('D_TXT', targetData)\n",
    "daily_min_temper = weatherData('D_TN', targetData)\n",
    "daily_min_temper_time = weatherData('D_TNT', targetData)"
   ]
  },
  {
   "cell_type": "code",
   "execution_count": 42,
   "metadata": {},
   "outputs": [],
   "source": [
    "outputString = '溫度:{} 相對溼度:{} 氣壓:{} 今日會在{}時達到最高溫{}度 今日累積雨量{}'.format(temper, hum, pressure, daily_max_temper_time, daily_max_temper, rainfall_24h)"
   ]
  },
  {
   "cell_type": "code",
   "execution_count": 43,
   "metadata": {},
   "outputs": [
    {
     "data": {
      "text/plain": [
       "'溫度:27.9 相對溼度:0.68 氣壓:1001.6 今日會在2020-10-11T10:00:00+08:00時達到最高溫27.90度 今日累積雨量0.0'"
      ]
     },
     "execution_count": 43,
     "metadata": {},
     "output_type": "execute_result"
    }
   ],
   "source": [
    "outputString"
   ]
  },
  {
   "cell_type": "code",
   "execution_count": null,
   "metadata": {},
   "outputs": [],
   "source": []
  }
 ],
 "metadata": {
  "kernelspec": {
   "display_name": "Python 3",
   "language": "python",
   "name": "python3"
  },
  "language_info": {
   "codemirror_mode": {
    "name": "ipython",
    "version": 3
   },
   "file_extension": ".py",
   "mimetype": "text/x-python",
   "name": "python",
   "nbconvert_exporter": "python",
   "pygments_lexer": "ipython3",
   "version": "3.6.10"
  }
 },
 "nbformat": 4,
 "nbformat_minor": 4
}
